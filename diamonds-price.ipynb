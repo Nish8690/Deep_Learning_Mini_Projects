{
 "cells": [
  {
   "cell_type": "markdown",
   "metadata": {},
   "source": [
    "# Import libraries"
   ]
  },
  {
   "cell_type": "code",
   "execution_count": 1,
   "metadata": {},
   "outputs": [],
   "source": [
    "import tensorflow as tf\n",
    "import pandas as pd\n",
    "import matplotlib.pyplot as plt"
   ]
  },
  {
   "cell_type": "markdown",
   "metadata": {},
   "source": [
    "# Read the input data"
   ]
  },
  {
   "cell_type": "code",
   "execution_count": 2,
   "metadata": {},
   "outputs": [],
   "source": [
    "df = pd.read_csv('diamonds.csv')"
   ]
  },
  {
   "cell_type": "markdown",
   "metadata": {},
   "source": [
    "# Take a look at the data"
   ]
  },
  {
   "cell_type": "code",
   "execution_count": 3,
   "metadata": {},
   "outputs": [
    {
     "name": "stdout",
     "output_type": "stream",
     "text": [
      "   Unnamed: 0  carat      cut color clarity  depth  table  price     x     y  \\\n",
      "0           1   0.23    Ideal     E     SI2   61.5   55.0    326  3.95  3.98   \n",
      "1           2   0.21  Premium     E     SI1   59.8   61.0    326  3.89  3.84   \n",
      "2           3   0.23     Good     E     VS1   56.9   65.0    327  4.05  4.07   \n",
      "3           4   0.29  Premium     I     VS2   62.4   58.0    334  4.20  4.23   \n",
      "4           5   0.31     Good     J     SI2   63.3   58.0    335  4.34  4.35   \n",
      "\n",
      "      z  \n",
      "0  2.43  \n",
      "1  2.31  \n",
      "2  2.31  \n",
      "3  2.63  \n",
      "4  2.75  \n"
     ]
    }
   ],
   "source": [
    "print(df.head())"
   ]
  },
  {
   "cell_type": "markdown",
   "metadata": {},
   "source": [
    "# Check for null values"
   ]
  },
  {
   "cell_type": "code",
   "execution_count": 4,
   "metadata": {},
   "outputs": [
    {
     "name": "stdout",
     "output_type": "stream",
     "text": [
      "Unnamed: 0    0\n",
      "carat         0\n",
      "cut           0\n",
      "color         0\n",
      "clarity       0\n",
      "depth         0\n",
      "table         0\n",
      "price         0\n",
      "x             0\n",
      "y             0\n",
      "z             0\n",
      "dtype: int64\n"
     ]
    }
   ],
   "source": [
    "print(df.isna().sum())"
   ]
  },
  {
   "cell_type": "markdown",
   "metadata": {},
   "source": [
    "# Remove the index column"
   ]
  },
  {
   "cell_type": "code",
   "execution_count": 5,
   "metadata": {},
   "outputs": [
    {
     "name": "stdout",
     "output_type": "stream",
     "text": [
      "   carat      cut color clarity  depth  table  price     x     y     z\n",
      "0   0.23    Ideal     E     SI2   61.5   55.0    326  3.95  3.98  2.43\n",
      "1   0.21  Premium     E     SI1   59.8   61.0    326  3.89  3.84  2.31\n",
      "2   0.23     Good     E     VS1   56.9   65.0    327  4.05  4.07  2.31\n",
      "3   0.29  Premium     I     VS2   62.4   58.0    334  4.20  4.23  2.63\n",
      "4   0.31     Good     J     SI2   63.3   58.0    335  4.34  4.35  2.75\n"
     ]
    }
   ],
   "source": [
    "df = df.drop(df.columns[0], axis = 1)\n",
    "\n",
    "print(df.head())"
   ]
  },
  {
   "cell_type": "code",
   "execution_count": 6,
   "metadata": {},
   "outputs": [
    {
     "name": "stdout",
     "output_type": "stream",
     "text": [
      "326\n",
      "18823\n"
     ]
    }
   ],
   "source": [
    "print(df['price'].min())\n",
    "print(df['price'].max())"
   ]
  },
  {
   "cell_type": "markdown",
   "metadata": {},
   "source": [
    "# Normalize the numerical inputs"
   ]
  },
  {
   "cell_type": "code",
   "execution_count": 7,
   "metadata": {},
   "outputs": [],
   "source": [
    "def normalize_column(df, column):\n",
    "    max_value = df[column].max()\n",
    "    min_value = df[column].min()\n",
    "    df[column] = (df[column] - min_value)/(max_value - min_value)\n",
    "    return df"
   ]
  },
  {
   "cell_type": "code",
   "execution_count": 8,
   "metadata": {},
   "outputs": [],
   "source": [
    "df = normalize_column(df, \"carat\")\n",
    "df = normalize_column(df, \"depth\")\n",
    "df = normalize_column(df, \"table\")\n",
    "df = normalize_column(df, \"price\")\n",
    "df = normalize_column(df, \"x\")\n",
    "df = normalize_column(df, \"y\")\n",
    "df = normalize_column(df, \"z\")"
   ]
  },
  {
   "cell_type": "code",
   "execution_count": 9,
   "metadata": {},
   "outputs": [
    {
     "name": "stdout",
     "output_type": "stream",
     "text": [
      "      carat      cut color clarity     depth     table     price         x  \\\n",
      "0  0.006237    Ideal     E     SI2  0.513889  0.230769  0.000000  0.367784   \n",
      "1  0.002079  Premium     E     SI1  0.466667  0.346154  0.000000  0.362197   \n",
      "2  0.006237     Good     E     VS1  0.386111  0.423077  0.000054  0.377095   \n",
      "3  0.018711  Premium     I     VS2  0.538889  0.288462  0.000433  0.391061   \n",
      "4  0.022869     Good     J     SI2  0.563889  0.288462  0.000487  0.404097   \n",
      "\n",
      "          y         z  \n",
      "0  0.067572  0.076415  \n",
      "1  0.065195  0.072642  \n",
      "2  0.069100  0.072642  \n",
      "3  0.071817  0.082704  \n",
      "4  0.073854  0.086478  \n"
     ]
    }
   ],
   "source": [
    "print(df.head())"
   ]
  },
  {
   "cell_type": "markdown",
   "metadata": {},
   "source": [
    "# Convert categorical input to one hot encoding"
   ]
  },
  {
   "cell_type": "code",
   "execution_count": 10,
   "metadata": {},
   "outputs": [],
   "source": [
    "def make_one_hot_encoding(df, column):\n",
    "    values = df.pop(column)\n",
    "    unique_values = values.unique()\n",
    "    unique_values = sorted(unique_values)\n",
    "    for unique_value in unique_values:\n",
    "        df[column + str(unique_value)] = (values == unique_value)*1.0\n",
    "    return df"
   ]
  },
  {
   "cell_type": "code",
   "execution_count": 11,
   "metadata": {},
   "outputs": [],
   "source": [
    "df = make_one_hot_encoding(df, \"cut\")\n",
    "df = make_one_hot_encoding(df, \"color\")\n",
    "df = make_one_hot_encoding(df, \"clarity\")"
   ]
  },
  {
   "cell_type": "markdown",
   "metadata": {},
   "source": [
    "# Take a look at the final transformed data"
   ]
  },
  {
   "cell_type": "code",
   "execution_count": 12,
   "metadata": {},
   "outputs": [
    {
     "name": "stdout",
     "output_type": "stream",
     "text": [
      "      carat     depth     table     price         x         y         z  \\\n",
      "0  0.006237  0.513889  0.230769  0.000000  0.367784  0.067572  0.076415   \n",
      "1  0.002079  0.466667  0.346154  0.000000  0.362197  0.065195  0.072642   \n",
      "2  0.006237  0.386111  0.423077  0.000054  0.377095  0.069100  0.072642   \n",
      "3  0.018711  0.538889  0.288462  0.000433  0.391061  0.071817  0.082704   \n",
      "4  0.022869  0.563889  0.288462  0.000487  0.404097  0.073854  0.086478   \n",
      "\n",
      "   cutFair  cutGood  cutIdeal  ...  colorI  colorJ  clarityI1  clarityIF  \\\n",
      "0      0.0      0.0       1.0  ...     0.0     0.0        0.0        0.0   \n",
      "1      0.0      0.0       0.0  ...     0.0     0.0        0.0        0.0   \n",
      "2      0.0      1.0       0.0  ...     0.0     0.0        0.0        0.0   \n",
      "3      0.0      0.0       0.0  ...     1.0     0.0        0.0        0.0   \n",
      "4      0.0      1.0       0.0  ...     0.0     1.0        0.0        0.0   \n",
      "\n",
      "   claritySI1  claritySI2  clarityVS1  clarityVS2  clarityVVS1  clarityVVS2  \n",
      "0         0.0         1.0         0.0         0.0          0.0          0.0  \n",
      "1         1.0         0.0         0.0         0.0          0.0          0.0  \n",
      "2         0.0         0.0         1.0         0.0          0.0          0.0  \n",
      "3         0.0         0.0         0.0         1.0          0.0          0.0  \n",
      "4         0.0         1.0         0.0         0.0          0.0          0.0  \n",
      "\n",
      "[5 rows x 27 columns]\n"
     ]
    }
   ],
   "source": [
    "print(df.head())"
   ]
  },
  {
   "cell_type": "markdown",
   "metadata": {},
   "source": [
    "# Shuffle the data"
   ]
  },
  {
   "cell_type": "code",
   "execution_count": 13,
   "metadata": {},
   "outputs": [],
   "source": [
    "df = df.sample(frac=1)"
   ]
  },
  {
   "cell_type": "markdown",
   "metadata": {},
   "source": [
    "# Split the data into training set and test set"
   ]
  },
  {
   "cell_type": "code",
   "execution_count": 14,
   "metadata": {},
   "outputs": [],
   "source": [
    "price = df.pop('price')"
   ]
  },
  {
   "cell_type": "code",
   "execution_count": 15,
   "metadata": {},
   "outputs": [
    {
     "name": "stdout",
     "output_type": "stream",
     "text": [
      "(53940, 26)\n",
      "(53940,)\n"
     ]
    }
   ],
   "source": [
    "print(df.shape)\n",
    "print(price.shape)"
   ]
  },
  {
   "cell_type": "code",
   "execution_count": 16,
   "metadata": {},
   "outputs": [],
   "source": [
    "x_train = df.iloc[:45000, :].to_numpy()\n",
    "y_train = price.iloc[:45000].to_numpy()\n",
    "\n",
    "x_test = df.iloc[45000:, :].to_numpy()\n",
    "y_test = price.iloc[45000:].to_numpy()"
   ]
  },
  {
   "cell_type": "code",
   "execution_count": 17,
   "metadata": {},
   "outputs": [
    {
     "name": "stdout",
     "output_type": "stream",
     "text": [
      "(45000, 26)\n",
      "(45000,)\n",
      "(8940, 26)\n",
      "(8940,)\n"
     ]
    }
   ],
   "source": [
    "print(x_train.shape)\n",
    "print(y_train.shape)\n",
    "print(x_test.shape)\n",
    "print(y_test.shape)"
   ]
  },
  {
   "cell_type": "code",
   "execution_count": 18,
   "metadata": {},
   "outputs": [
    {
     "name": "stdout",
     "output_type": "stream",
     "text": [
      "Model: \"sequential\"\n",
      "_________________________________________________________________\n",
      "Layer (type)                 Output Shape              Param #   \n",
      "=================================================================\n",
      "dense (Dense)                (None, 128)               3456      \n",
      "_________________________________________________________________\n",
      "dense_1 (Dense)              (None, 128)               16512     \n",
      "_________________________________________________________________\n",
      "dense_2 (Dense)              (None, 1)                 129       \n",
      "=================================================================\n",
      "Total params: 20,097\n",
      "Trainable params: 20,097\n",
      "Non-trainable params: 0\n",
      "_________________________________________________________________\n"
     ]
    }
   ],
   "source": [
    "model = tf.keras.Sequential()\n",
    "\n",
    "model.add(tf.keras.layers.Input(shape=[26]))\n",
    "model.add(tf.keras.layers.Dense(units=128, activation='relu'))\n",
    "model.add(tf.keras.layers.Dense(units=128, activation='relu'))\n",
    "model.add(tf.keras.layers.Dense(units=1, activation='linear'))\n",
    "\n",
    "model.summary()"
   ]
  },
  {
   "cell_type": "code",
   "execution_count": 19,
   "metadata": {},
   "outputs": [],
   "source": [
    "model.compile(optimizer='rmsprop', loss='mean_squared_error', metrics=['mae'])"
   ]
  },
  {
   "cell_type": "code",
   "execution_count": 20,
   "metadata": {},
   "outputs": [
    {
     "name": "stdout",
     "output_type": "stream",
     "text": [
      "Train on 45000 samples\n",
      "Epoch 1/20\n",
      "45000/45000 [==============================] - 4s 82us/sample - loss: 0.0062 - mae: 0.05170s - loss: 0.0063 - mae: 0.0\n",
      "Epoch 2/20\n",
      "45000/45000 [==============================] - 3s 69us/sample - loss: 0.0020 - mae: 0.0280\n",
      "Epoch 3/20\n",
      "45000/45000 [==============================] - 3s 65us/sample - loss: 0.0016 - mae: 0.0245\n",
      "Epoch 4/20\n",
      "45000/45000 [==============================] - 3s 67us/sample - loss: 0.0015 - mae: 0.0230\n",
      "Epoch 5/20\n",
      "45000/45000 [==============================] - 3s 65us/sample - loss: 0.0014 - mae: 0.0219\n",
      "Epoch 6/20\n",
      "45000/45000 [==============================] - 3s 67us/sample - loss: 0.0013 - mae: 0.0212\n",
      "Epoch 7/20\n",
      "45000/45000 [==============================] - 3s 65us/sample - loss: 0.0013 - mae: 0.0208\n",
      "Epoch 8/20\n",
      "45000/45000 [==============================] - 3s 65us/sample - loss: 0.0012 - mae: 0.0203\n",
      "Epoch 9/20\n",
      "45000/45000 [==============================] - 3s 66us/sample - loss: 0.0012 - mae: 0.0200\n",
      "Epoch 10/20\n",
      "45000/45000 [==============================] - 3s 65us/sample - loss: 0.0012 - mae: 0.0198\n",
      "Epoch 11/20\n",
      "45000/45000 [==============================] - 3s 67us/sample - loss: 0.0012 - mae: 0.0196\n",
      "Epoch 12/20\n",
      "45000/45000 [==============================] - 3s 65us/sample - loss: 0.0012 - mae: 0.0195\n",
      "Epoch 13/20\n",
      "45000/45000 [==============================] - 3s 65us/sample - loss: 0.0011 - mae: 0.0193\n",
      "Epoch 14/20\n",
      "45000/45000 [==============================] - 3s 66us/sample - loss: 0.0011 - mae: 0.0192\n",
      "Epoch 15/20\n",
      "45000/45000 [==============================] - 3s 66us/sample - loss: 0.0011 - mae: 0.0191\n",
      "Epoch 16/20\n",
      "45000/45000 [==============================] - 3s 66us/sample - loss: 0.0011 - mae: 0.0189\n",
      "Epoch 17/20\n",
      "45000/45000 [==============================] - 3s 71us/sample - loss: 0.0011 - mae: 0.0188\n",
      "Epoch 18/20\n",
      "45000/45000 [==============================] - 3s 73us/sample - loss: 0.0011 - mae: 0.0188\n",
      "Epoch 19/20\n",
      "45000/45000 [==============================] - 3s 70us/sample - loss: 0.0011 - mae: 0.0186\n",
      "Epoch 20/20\n",
      "45000/45000 [==============================] - 3s 74us/sample - loss: 0.0011 - mae: 0.0187\n"
     ]
    },
    {
     "data": {
      "text/plain": [
       "<tensorflow.python.keras.callbacks.History at 0x7f8879b2ee80>"
      ]
     },
     "execution_count": 20,
     "metadata": {},
     "output_type": "execute_result"
    }
   ],
   "source": [
    "model.fit(x_train, y_train, epochs=20)"
   ]
  },
  {
   "cell_type": "code",
   "execution_count": 21,
   "metadata": {},
   "outputs": [],
   "source": [
    "predictions = model.predict(x_test)"
   ]
  },
  {
   "cell_type": "code",
   "execution_count": 22,
   "metadata": {},
   "outputs": [
    {
     "data": {
      "image/png": "[encoded data removed]",
      "text/plain": [
       "<Figure size 432x288 with 1 Axes>"
      ]
     },
     "metadata": {
      "needs_background": "light"
     },
     "output_type": "display_data"
    }
   ],
   "source": [
    "plt.figure()\n",
    "plt.scatter(y_test, predictions)\n",
    "plt.xlabel(\"Actual values\")\n",
    "plt.ylabel(\"Predicted values\")\n",
    "plt.show()"
   ]
  },
  {
   "cell_type": "code",
   "execution_count": null,
   "metadata": {},
   "outputs": [],
   "source": []
  }
 ],
 "metadata": {
  "kernelspec": {
   "display_name": "Python 3",
   "language": "python",
   "name": "python3"
  },
  "language_info": {
   "codemirror_mode": {
    "name": "ipython",
    "version": 3
   },
   "file_extension": ".py",
   "mimetype": "text/x-python",
   "name": "python",
   "nbconvert_exporter": "python",
   "pygments_lexer": "ipython3",
   "version": "3.7.3"
  }
 },
 "nbformat": 4,
 "nbformat_minor": 2
}
