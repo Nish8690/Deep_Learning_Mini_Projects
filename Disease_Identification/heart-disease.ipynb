{
 "cells": [
  {
   "cell_type": "markdown",
   "metadata": {},
   "source": [
    "# Import libraries"
   ]
  },
  {
   "cell_type": "code",
   "execution_count": 1,
   "metadata": {},
   "outputs": [],
   "source": [
    "import pandas as pd\n",
    "import tensorflow as tf"
   ]
  },
  {
   "cell_type": "markdown",
   "metadata": {},
   "source": [
    "# Read the input data"
   ]
  },
  {
   "cell_type": "code",
   "execution_count": 2,
   "metadata": {},
   "outputs": [],
   "source": [
    "df = pd.read_csv('heart.csv')"
   ]
  },
  {
   "cell_type": "markdown",
   "metadata": {},
   "source": [
    "# Take a look at the data"
   ]
  },
  {
   "cell_type": "code",
   "execution_count": 3,
   "metadata": {},
   "outputs": [
    {
     "name": "stdout",
     "output_type": "stream",
     "text": [
      "   age  sex  cp  trestbps  chol  fbs  restecg  thalach  exang  oldpeak  slope  \\\n",
      "0   63    1   3       145   233    1        0      150      0      2.3      0   \n",
      "1   37    1   2       130   250    0        1      187      0      3.5      0   \n",
      "2   41    0   1       130   204    0        0      172      0      1.4      2   \n",
      "3   56    1   1       120   236    0        1      178      0      0.8      2   \n",
      "4   57    0   0       120   354    0        1      163      1      0.6      2   \n",
      "\n",
      "   ca  thal  target  \n",
      "0   0     1       1  \n",
      "1   0     2       1  \n",
      "2   0     2       1  \n",
      "3   0     2       1  \n",
      "4   0     2       1  \n"
     ]
    }
   ],
   "source": [
    "print(df.head())"
   ]
  },
  {
   "cell_type": "markdown",
   "metadata": {},
   "source": [
    "# Normalize the numerical inputs"
   ]
  },
  {
   "cell_type": "code",
   "execution_count": 4,
   "metadata": {},
   "outputs": [],
   "source": [
    "def normalize_column(df, column):\n",
    "    max_value = df[column].max()\n",
    "    min_value = df[column].min()\n",
    "    df[column] = (df[column] - min_value)/(max_value - min_value)\n",
    "    return df"
   ]
  },
  {
   "cell_type": "code",
   "execution_count": 5,
   "metadata": {},
   "outputs": [],
   "source": [
    "df = normalize_column(df, \"age\")\n",
    "df = normalize_column(df, \"trestbps\")\n",
    "df = normalize_column(df, \"chol\")\n",
    "df = normalize_column(df, \"thalach\")\n",
    "df = normalize_column(df, \"oldpeak\")\n",
    "df = normalize_column(df, \"ca\")"
   ]
  },
  {
   "cell_type": "markdown",
   "metadata": {},
   "source": [
    "# Convert categorical input to one hot encoding"
   ]
  },
  {
   "cell_type": "code",
   "execution_count": 6,
   "metadata": {},
   "outputs": [],
   "source": [
    "def make_one_hot_encoding(df, column):\n",
    "    values = df.pop(column)\n",
    "    unique_values = values.unique()\n",
    "    unique_values = sorted(unique_values)\n",
    "    for unique_value in unique_values:\n",
    "        df[column + str(unique_value)] = (values == unique_value)*1.0\n",
    "    return df"
   ]
  },
  {
   "cell_type": "code",
   "execution_count": 7,
   "metadata": {},
   "outputs": [],
   "source": [
    "df = make_one_hot_encoding(df, \"cp\")\n",
    "df = make_one_hot_encoding(df, \"thal\")"
   ]
  },
  {
   "cell_type": "markdown",
   "metadata": {},
   "source": [
    "# Take a look at the final transformed data"
   ]
  },
  {
   "cell_type": "code",
   "execution_count": 8,
   "metadata": {},
   "outputs": [
    {
     "name": "stdout",
     "output_type": "stream",
     "text": [
      "        age  sex  trestbps      chol  fbs  restecg   thalach  exang   oldpeak  \\\n",
      "0  0.708333    1  0.481132  0.244292    1        0  0.603053      0  0.370968   \n",
      "1  0.166667    1  0.339623  0.283105    0        1  0.885496      0  0.564516   \n",
      "2  0.250000    0  0.339623  0.178082    0        0  0.770992      0  0.225806   \n",
      "3  0.562500    1  0.245283  0.251142    0        1  0.816794      0  0.129032   \n",
      "4  0.583333    0  0.245283  0.520548    0        1  0.702290      1  0.096774   \n",
      "\n",
      "   slope   ca  target  cp0  cp1  cp2  cp3  thal0  thal1  thal2  thal3  \n",
      "0      0  0.0       1  0.0  0.0  0.0  1.0    0.0    1.0    0.0    0.0  \n",
      "1      0  0.0       1  0.0  0.0  1.0  0.0    0.0    0.0    1.0    0.0  \n",
      "2      2  0.0       1  0.0  1.0  0.0  0.0    0.0    0.0    1.0    0.0  \n",
      "3      2  0.0       1  0.0  1.0  0.0  0.0    0.0    0.0    1.0    0.0  \n",
      "4      2  0.0       1  1.0  0.0  0.0  0.0    0.0    0.0    1.0    0.0  \n"
     ]
    }
   ],
   "source": [
    "print(df.head())"
   ]
  },
  {
   "cell_type": "markdown",
   "metadata": {},
   "source": [
    "# Shuffle the data"
   ]
  },
  {
   "cell_type": "code",
   "execution_count": 9,
   "metadata": {},
   "outputs": [],
   "source": [
    "df = df.sample(frac=1)"
   ]
  },
  {
   "cell_type": "markdown",
   "metadata": {},
   "source": [
    "# Split the dataset into training set and test set"
   ]
  },
  {
   "cell_type": "code",
   "execution_count": 10,
   "metadata": {},
   "outputs": [],
   "source": [
    "x_train = df.iloc[:273, :-1].to_numpy()\n",
    "y_train = df.iloc[:273, -1:].to_numpy()\n",
    "\n",
    "x_test = df.iloc[273:, :-1].to_numpy()\n",
    "y_test = df.iloc[273:, -1:].to_numpy()"
   ]
  },
  {
   "cell_type": "code",
   "execution_count": 11,
   "metadata": {},
   "outputs": [
    {
     "name": "stdout",
     "output_type": "stream",
     "text": [
      "(273, 19)\n",
      "(273, 1)\n",
      "(30, 19)\n",
      "(30, 1)\n"
     ]
    }
   ],
   "source": [
    "print(x_train.shape)\n",
    "print(y_train.shape)\n",
    "print(x_test.shape)\n",
    "print(y_test.shape)"
   ]
  },
  {
   "cell_type": "markdown",
   "metadata": {},
   "source": [
    "# Build the model"
   ]
  },
  {
   "cell_type": "code",
   "execution_count": 12,
   "metadata": {},
   "outputs": [
    {
     "name": "stdout",
     "output_type": "stream",
     "text": [
      "Model: \"sequential\"\n",
      "_________________________________________________________________\n",
      "Layer (type)                 Output Shape              Param #   \n",
      "=================================================================\n",
      "dense (Dense)                (None, 64)                1280      \n",
      "_________________________________________________________________\n",
      "dense_1 (Dense)              (None, 64)                4160      \n",
      "_________________________________________________________________\n",
      "dense_2 (Dense)              (None, 1)                 65        \n",
      "=================================================================\n",
      "Total params: 5,505\n",
      "Trainable params: 5,505\n",
      "Non-trainable params: 0\n",
      "_________________________________________________________________\n"
     ]
    }
   ],
   "source": [
    "model = tf.keras.Sequential()\n",
    "\n",
    "model.add(tf.keras.layers.Input(shape=[19]))\n",
    "model.add(tf.keras.layers.Dense(units=64, activation='relu'))\n",
    "model.add(tf.keras.layers.Dense(units=64, activation='relu'))\n",
    "model.add(tf.keras.layers.Dense(units=1, activation='sigmoid'))\n",
    "\n",
    "model.summary()"
   ]
  },
  {
   "cell_type": "markdown",
   "metadata": {},
   "source": [
    "# Choose Loss function and Optimizer"
   ]
  },
  {
   "cell_type": "code",
   "execution_count": 13,
   "metadata": {},
   "outputs": [],
   "source": [
    "model.compile(optimizer='Adam', loss='binary_crossentropy', metrics=['accuracy'])"
   ]
  },
  {
   "cell_type": "markdown",
   "metadata": {},
   "source": [
    "# Start the training process"
   ]
  },
  {
   "cell_type": "code",
   "execution_count": 14,
   "metadata": {},
   "outputs": [
    {
     "name": "stderr",
     "output_type": "stream",
     "text": [
      "WARNING: Logging before flag parsing goes to stderr.\n",
      "W0728 11:34:56.428033 140367398168384 deprecation.py:323] From /home/rishi/Programs/ML/mlvenv/lib/python3.7/site-packages/tensorflow/python/ops/math_grad.py:1250: add_dispatch_support.<locals>.wrapper (from tensorflow.python.ops.array_ops) is deprecated and will be removed in a future version.\n",
      "Instructions for updating:\n",
      "Use tf.where in 2.0, which has the same broadcast rule as np.where\n"
     ]
    },
    {
     "name": "stdout",
     "output_type": "stream",
     "text": [
      "Train on 273 samples\n",
      "Epoch 1/10\n",
      "273/273 [==============================] - 0s 1ms/sample - loss: 0.6605 - accuracy: 0.5861\n",
      "Epoch 2/10\n",
      "273/273 [==============================] - 0s 92us/sample - loss: 0.5765 - accuracy: 0.6630\n",
      "Epoch 3/10\n",
      "273/273 [==============================] - 0s 110us/sample - loss: 0.5088 - accuracy: 0.7546\n",
      "Epoch 4/10\n",
      "273/273 [==============================] - 0s 86us/sample - loss: 0.4479 - accuracy: 0.8242\n",
      "Epoch 5/10\n",
      "273/273 [==============================] - 0s 121us/sample - loss: 0.3867 - accuracy: 0.8608\n",
      "Epoch 6/10\n",
      "273/273 [==============================] - 0s 110us/sample - loss: 0.3298 - accuracy: 0.8938\n",
      "Epoch 7/10\n",
      "273/273 [==============================] - 0s 93us/sample - loss: 0.2734 - accuracy: 0.9231\n",
      "Epoch 8/10\n",
      "273/273 [==============================] - 0s 109us/sample - loss: 0.2189 - accuracy: 0.9451\n",
      "Epoch 9/10\n",
      "273/273 [==============================] - 0s 114us/sample - loss: 0.1704 - accuracy: 0.9744\n",
      "Epoch 10/10\n",
      "273/273 [==============================] - 0s 105us/sample - loss: 0.1300 - accuracy: 0.9890\n"
     ]
    },
    {
     "data": {
      "text/plain": [
       "<tensorflow.python.keras.callbacks.History at 0x7fa98c2d3908>"
      ]
     },
     "execution_count": 14,
     "metadata": {},
     "output_type": "execute_result"
    }
   ],
   "source": [
    "model.fit(x_train, y_train, epochs=10)"
   ]
  },
  {
   "cell_type": "markdown",
   "metadata": {},
   "source": [
    "# Evaluate with Test set"
   ]
  },
  {
   "cell_type": "code",
   "execution_count": 15,
   "metadata": {},
   "outputs": [
    {
     "name": "stdout",
     "output_type": "stream",
     "text": [
      "30/30 [==============================] - 0s 1ms/sample - loss: 0.1346 - accuracy: 1.0000\n",
      "1.0\n"
     ]
    }
   ],
   "source": [
    "test_loss, test_acc = model.evaluate(x_test, y_test)\n",
    "\n",
    "print(test_acc)"
   ]
  }
 ],
 "metadata": {
  "kernelspec": {
   "display_name": "Python 3",
   "language": "python",
   "name": "python3"
  },
  "language_info": {
   "codemirror_mode": {
    "name": "ipython",
    "version": 3
   },
   "file_extension": ".py",
   "mimetype": "text/x-python",
   "name": "python",
   "nbconvert_exporter": "python",
   "pygments_lexer": "ipython3",
   "version": "3.7.3"
  }
 },
 "nbformat": 4,
 "nbformat_minor": 2
}
