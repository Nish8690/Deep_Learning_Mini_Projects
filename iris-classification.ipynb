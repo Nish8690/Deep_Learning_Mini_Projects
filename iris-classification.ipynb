{
 "cells": [
  {
   "cell_type": "markdown",
   "metadata": {},
   "source": [
    "# Import libraries"
   ]
  },
  {
   "cell_type": "code",
   "execution_count": 1,
   "metadata": {},
   "outputs": [],
   "source": [
    "import pandas as pd\n",
    "import tensorflow as tf"
   ]
  },
  {
   "cell_type": "markdown",
   "metadata": {},
   "source": [
    "# Get the data"
   ]
  },
  {
   "cell_type": "code",
   "execution_count": 2,
   "metadata": {},
   "outputs": [],
   "source": [
    "df = pd.read_csv('Iris.csv')"
   ]
  },
  {
   "cell_type": "markdown",
   "metadata": {},
   "source": [
    "# Take a look at the data"
   ]
  },
  {
   "cell_type": "code",
   "execution_count": 3,
   "metadata": {},
   "outputs": [
    {
     "name": "stdout",
     "output_type": "stream",
     "text": [
      "   Id  SepalLengthCm  SepalWidthCm  PetalLengthCm  PetalWidthCm      Species\n",
      "0   1            5.1           3.5            1.4           0.2  Iris-setosa\n",
      "1   2            4.9           3.0            1.4           0.2  Iris-setosa\n",
      "2   3            4.7           3.2            1.3           0.2  Iris-setosa\n",
      "3   4            4.6           3.1            1.5           0.2  Iris-setosa\n",
      "4   5            5.0           3.6            1.4           0.2  Iris-setosa\n"
     ]
    }
   ],
   "source": [
    "print(df.head())"
   ]
  },
  {
   "cell_type": "markdown",
   "metadata": {},
   "source": [
    "# Convert string values to integer values"
   ]
  },
  {
   "cell_type": "code",
   "execution_count": 4,
   "metadata": {},
   "outputs": [
    {
     "name": "stdout",
     "output_type": "stream",
     "text": [
      "['Iris-setosa' 'Iris-versicolor' 'Iris-virginica']\n"
     ]
    }
   ],
   "source": [
    "label_names = df['Species'].unique()\n",
    "\n",
    "print(label_names)"
   ]
  },
  {
   "cell_type": "code",
   "execution_count": 5,
   "metadata": {},
   "outputs": [
    {
     "name": "stdout",
     "output_type": "stream",
     "text": [
      "[(0, 'Iris-setosa'), (1, 'Iris-versicolor'), (2, 'Iris-virginica')]\n"
     ]
    }
   ],
   "source": [
    "index_and_label = list(enumerate(label_names))\n",
    "\n",
    "print(index_and_label)"
   ]
  },
  {
   "cell_type": "code",
   "execution_count": 6,
   "metadata": {},
   "outputs": [
    {
     "name": "stdout",
     "output_type": "stream",
     "text": [
      "{'Iris-setosa': 0, 'Iris-versicolor': 1, 'Iris-virginica': 2}\n"
     ]
    }
   ],
   "source": [
    "label_to_index = dict((label, index) for index, label in index_and_label)\n",
    "\n",
    "print(label_to_index)"
   ]
  },
  {
   "cell_type": "code",
   "execution_count": 7,
   "metadata": {},
   "outputs": [
    {
     "name": "stdout",
     "output_type": "stream",
     "text": [
      "   Id  SepalLengthCm  SepalWidthCm  PetalLengthCm  PetalWidthCm  Species\n",
      "0   1            5.1           3.5            1.4           0.2        0\n",
      "1   2            4.9           3.0            1.4           0.2        0\n",
      "2   3            4.7           3.2            1.3           0.2        0\n",
      "3   4            4.6           3.1            1.5           0.2        0\n",
      "4   5            5.0           3.6            1.4           0.2        0\n"
     ]
    }
   ],
   "source": [
    "df = df.replace(label_to_index)\n",
    "\n",
    "print(df.head())"
   ]
  },
  {
   "cell_type": "markdown",
   "metadata": {},
   "source": [
    "# Normalize the numerical inputs"
   ]
  },
  {
   "cell_type": "code",
   "execution_count": 8,
   "metadata": {},
   "outputs": [],
   "source": [
    "def normalize_column(df, column):\n",
    "    max_value = df[column].max()\n",
    "    min_value = df[column].min()\n",
    "    df[column] = (df[column] - min_value)/(max_value - min_value)\n",
    "    return df"
   ]
  },
  {
   "cell_type": "code",
   "execution_count": 9,
   "metadata": {},
   "outputs": [],
   "source": [
    "df = normalize_column(df, 'SepalLengthCm')\n",
    "df = normalize_column(df, 'SepalWidthCm')\n",
    "df = normalize_column(df, 'PetalLengthCm')\n",
    "df = normalize_column(df, 'PetalWidthCm')"
   ]
  },
  {
   "cell_type": "markdown",
   "metadata": {},
   "source": [
    "# Shuffle the dataset"
   ]
  },
  {
   "cell_type": "code",
   "execution_count": 10,
   "metadata": {},
   "outputs": [],
   "source": [
    "df = df.sample(frac=1)"
   ]
  },
  {
   "cell_type": "code",
   "execution_count": 11,
   "metadata": {},
   "outputs": [
    {
     "name": "stdout",
     "output_type": "stream",
     "text": [
      "      Id  SepalLengthCm  SepalWidthCm  PetalLengthCm  PetalWidthCm  Species\n",
      "111  112       0.583333      0.291667       0.728814      0.750000        2\n",
      "146  147       0.555556      0.208333       0.677966      0.750000        2\n",
      "114  115       0.416667      0.333333       0.694915      0.958333        2\n",
      "147  148       0.611111      0.416667       0.711864      0.791667        2\n",
      "148  149       0.527778      0.583333       0.745763      0.916667        2\n"
     ]
    }
   ],
   "source": [
    "print(df.head())"
   ]
  },
  {
   "cell_type": "markdown",
   "metadata": {},
   "source": [
    "# Split the dataset into training set and test set"
   ]
  },
  {
   "cell_type": "code",
   "execution_count": 12,
   "metadata": {},
   "outputs": [],
   "source": [
    "x_train = df.iloc[:120, 1:-1].to_numpy()\n",
    "y_train = df.iloc[:120, -1:].to_numpy()"
   ]
  },
  {
   "cell_type": "code",
   "execution_count": 13,
   "metadata": {},
   "outputs": [],
   "source": [
    "x_test = df.iloc[120:, 1:-1].to_numpy()\n",
    "y_test = df.iloc[120:, -1:].to_numpy()"
   ]
  },
  {
   "cell_type": "code",
   "execution_count": 14,
   "metadata": {},
   "outputs": [
    {
     "name": "stdout",
     "output_type": "stream",
     "text": [
      "(120, 4)\n",
      "(120, 1)\n",
      "(30, 4)\n",
      "(30, 1)\n"
     ]
    }
   ],
   "source": [
    "print(x_train.shape)\n",
    "print(y_train.shape)\n",
    "print(x_test.shape)\n",
    "print(y_test.shape)"
   ]
  },
  {
   "cell_type": "markdown",
   "metadata": {},
   "source": [
    "# Build the Model"
   ]
  },
  {
   "cell_type": "code",
   "execution_count": 15,
   "metadata": {},
   "outputs": [
    {
     "name": "stdout",
     "output_type": "stream",
     "text": [
      "Model: \"sequential\"\n",
      "_________________________________________________________________\n",
      "Layer (type)                 Output Shape              Param #   \n",
      "=================================================================\n",
      "dense (Dense)                (None, 64)                320       \n",
      "_________________________________________________________________\n",
      "dense_1 (Dense)              (None, 3)                 195       \n",
      "=================================================================\n",
      "Total params: 515\n",
      "Trainable params: 515\n",
      "Non-trainable params: 0\n",
      "_________________________________________________________________\n"
     ]
    }
   ],
   "source": [
    "model = tf.keras.Sequential()\n",
    "\n",
    "model.add(tf.keras.layers.Input(shape=[4]))\n",
    "model.add(tf.keras.layers.Dense(units=64, activation='relu'))\n",
    "model.add(tf.keras.layers.Dense(units=3, activation='softmax'))\n",
    "\n",
    "model.summary()"
   ]
  },
  {
   "cell_type": "markdown",
   "metadata": {},
   "source": [
    "# Choose Loss function and optimizer"
   ]
  },
  {
   "cell_type": "code",
   "execution_count": 16,
   "metadata": {},
   "outputs": [],
   "source": [
    "model.compile(optimizer='Adam', loss='sparse_categorical_crossentropy', metrics=['accuracy'])"
   ]
  },
  {
   "cell_type": "markdown",
   "metadata": {},
   "source": [
    "# Start the training process"
   ]
  },
  {
   "cell_type": "code",
   "execution_count": 17,
   "metadata": {},
   "outputs": [
    {
     "name": "stderr",
     "output_type": "stream",
     "text": [
      "WARNING: Logging before flag parsing goes to stderr.\n",
      "W0727 14:11:24.559357 140243979364160 deprecation.py:323] From /home/rishi/Programs/ML/mlvenv/lib/python3.7/site-packages/tensorflow/python/ops/math_grad.py:1250: add_dispatch_support.<locals>.wrapper (from tensorflow.python.ops.array_ops) is deprecated and will be removed in a future version.\n",
      "Instructions for updating:\n",
      "Use tf.where in 2.0, which has the same broadcast rule as np.where\n"
     ]
    },
    {
     "name": "stdout",
     "output_type": "stream",
     "text": [
      "Train on 120 samples\n",
      "Epoch 1/100\n",
      "120/120 [==============================] - 0s 2ms/sample - loss: 1.0513 - accuracy: 0.6500\n",
      "Epoch 2/100\n",
      "120/120 [==============================] - 0s 126us/sample - loss: 1.0300 - accuracy: 0.6500\n",
      "Epoch 3/100\n",
      "120/120 [==============================] - 0s 116us/sample - loss: 1.0126 - accuracy: 0.6500\n",
      "Epoch 4/100\n",
      "120/120 [==============================] - 0s 135us/sample - loss: 0.9959 - accuracy: 0.6500\n",
      "Epoch 5/100\n",
      "120/120 [==============================] - 0s 142us/sample - loss: 0.9794 - accuracy: 0.6500\n",
      "Epoch 6/100\n",
      "120/120 [==============================] - 0s 101us/sample - loss: 0.9643 - accuracy: 0.6500\n",
      "Epoch 7/100\n",
      "120/120 [==============================] - 0s 111us/sample - loss: 0.9498 - accuracy: 0.6500\n",
      "Epoch 8/100\n",
      "120/120 [==============================] - 0s 130us/sample - loss: 0.9352 - accuracy: 0.6500\n",
      "Epoch 9/100\n",
      "120/120 [==============================] - 0s 123us/sample - loss: 0.9211 - accuracy: 0.6500\n",
      "Epoch 10/100\n",
      "120/120 [==============================] - 0s 142us/sample - loss: 0.9066 - accuracy: 0.6500\n",
      "Epoch 11/100\n",
      "120/120 [==============================] - 0s 100us/sample - loss: 0.8926 - accuracy: 0.6500\n",
      "Epoch 12/100\n",
      "120/120 [==============================] - 0s 121us/sample - loss: 0.8784 - accuracy: 0.6500\n",
      "Epoch 13/100\n",
      "120/120 [==============================] - 0s 108us/sample - loss: 0.8645 - accuracy: 0.6500\n",
      "Epoch 14/100\n",
      "120/120 [==============================] - 0s 130us/sample - loss: 0.8511 - accuracy: 0.6583\n",
      "Epoch 15/100\n",
      "120/120 [==============================] - 0s 119us/sample - loss: 0.8367 - accuracy: 0.6583\n",
      "Epoch 16/100\n",
      "120/120 [==============================] - 0s 139us/sample - loss: 0.8235 - accuracy: 0.6583\n",
      "Epoch 17/100\n",
      "120/120 [==============================] - 0s 103us/sample - loss: 0.8099 - accuracy: 0.6583\n",
      "Epoch 18/100\n",
      "120/120 [==============================] - 0s 106us/sample - loss: 0.7968 - accuracy: 0.6583\n",
      "Epoch 19/100\n",
      "120/120 [==============================] - 0s 88us/sample - loss: 0.7835 - accuracy: 0.6583\n",
      "Epoch 20/100\n",
      "120/120 [==============================] - 0s 123us/sample - loss: 0.7703 - accuracy: 0.6583\n",
      "Epoch 21/100\n",
      "120/120 [==============================] - 0s 122us/sample - loss: 0.7578 - accuracy: 0.6583\n",
      "Epoch 22/100\n",
      "120/120 [==============================] - 0s 116us/sample - loss: 0.7450 - accuracy: 0.6583\n",
      "Epoch 23/100\n",
      "120/120 [==============================] - 0s 194us/sample - loss: 0.7331 - accuracy: 0.6583\n",
      "Epoch 24/100\n",
      "120/120 [==============================] - 0s 177us/sample - loss: 0.7211 - accuracy: 0.6583\n",
      "Epoch 25/100\n",
      "120/120 [==============================] - 0s 230us/sample - loss: 0.7085 - accuracy: 0.6583\n",
      "Epoch 26/100\n",
      "120/120 [==============================] - 0s 163us/sample - loss: 0.6970 - accuracy: 0.6583\n",
      "Epoch 27/100\n",
      "120/120 [==============================] - 0s 160us/sample - loss: 0.6855 - accuracy: 0.6583\n",
      "Epoch 28/100\n",
      "120/120 [==============================] - 0s 151us/sample - loss: 0.6745 - accuracy: 0.6583\n",
      "Epoch 29/100\n",
      "120/120 [==============================] - 0s 175us/sample - loss: 0.6634 - accuracy: 0.6583\n",
      "Epoch 30/100\n",
      "120/120 [==============================] - 0s 161us/sample - loss: 0.6530 - accuracy: 0.6583\n",
      "Epoch 31/100\n",
      "120/120 [==============================] - 0s 169us/sample - loss: 0.6431 - accuracy: 0.6583\n",
      "Epoch 32/100\n",
      "120/120 [==============================] - 0s 118us/sample - loss: 0.6329 - accuracy: 0.6833\n",
      "Epoch 33/100\n",
      "120/120 [==============================] - 0s 124us/sample - loss: 0.6236 - accuracy: 0.6917\n",
      "Epoch 34/100\n",
      "120/120 [==============================] - 0s 153us/sample - loss: 0.6141 - accuracy: 0.7000\n",
      "Epoch 35/100\n",
      "120/120 [==============================] - 0s 136us/sample - loss: 0.6050 - accuracy: 0.7000\n",
      "Epoch 36/100\n",
      "120/120 [==============================] - 0s 155us/sample - loss: 0.5966 - accuracy: 0.7000\n",
      "Epoch 37/100\n",
      "120/120 [==============================] - 0s 141us/sample - loss: 0.5879 - accuracy: 0.7000\n",
      "Epoch 38/100\n",
      "120/120 [==============================] - 0s 145us/sample - loss: 0.5796 - accuracy: 0.7167\n",
      "Epoch 39/100\n",
      "120/120 [==============================] - 0s 103us/sample - loss: 0.5716 - accuracy: 0.7167\n",
      "Epoch 40/100\n",
      "120/120 [==============================] - 0s 181us/sample - loss: 0.5637 - accuracy: 0.7250\n",
      "Epoch 41/100\n",
      "120/120 [==============================] - 0s 140us/sample - loss: 0.5563 - accuracy: 0.7250\n",
      "Epoch 42/100\n",
      "120/120 [==============================] - 0s 207us/sample - loss: 0.5490 - accuracy: 0.7417\n",
      "Epoch 43/100\n",
      "120/120 [==============================] - 0s 108us/sample - loss: 0.5420 - accuracy: 0.7500\n",
      "Epoch 44/100\n",
      "120/120 [==============================] - 0s 267us/sample - loss: 0.5349 - accuracy: 0.7583\n",
      "Epoch 45/100\n",
      "120/120 [==============================] - 0s 178us/sample - loss: 0.5285 - accuracy: 0.7833\n",
      "Epoch 46/100\n",
      "120/120 [==============================] - 0s 121us/sample - loss: 0.5222 - accuracy: 0.7917\n",
      "Epoch 47/100\n",
      "120/120 [==============================] - 0s 135us/sample - loss: 0.5156 - accuracy: 0.7917\n",
      "Epoch 48/100\n",
      "120/120 [==============================] - 0s 196us/sample - loss: 0.5096 - accuracy: 0.7917\n",
      "Epoch 49/100\n",
      "120/120 [==============================] - 0s 141us/sample - loss: 0.5037 - accuracy: 0.7917\n",
      "Epoch 50/100\n",
      "120/120 [==============================] - 0s 142us/sample - loss: 0.4980 - accuracy: 0.7917\n",
      "Epoch 51/100\n",
      "120/120 [==============================] - 0s 109us/sample - loss: 0.4929 - accuracy: 0.8167\n",
      "Epoch 52/100\n",
      "120/120 [==============================] - 0s 160us/sample - loss: 0.4868 - accuracy: 0.8500\n",
      "Epoch 53/100\n",
      "120/120 [==============================] - 0s 152us/sample - loss: 0.4816 - accuracy: 0.8583\n",
      "Epoch 54/100\n",
      "120/120 [==============================] - 0s 120us/sample - loss: 0.4764 - accuracy: 0.8750\n",
      "Epoch 55/100\n",
      "120/120 [==============================] - 0s 126us/sample - loss: 0.4713 - accuracy: 0.8750\n",
      "Epoch 56/100\n",
      "120/120 [==============================] - 0s 125us/sample - loss: 0.4663 - accuracy: 0.8750\n",
      "Epoch 57/100\n",
      "120/120 [==============================] - 0s 113us/sample - loss: 0.4615 - accuracy: 0.8750\n",
      "Epoch 58/100\n",
      "120/120 [==============================] - 0s 110us/sample - loss: 0.4568 - accuracy: 0.8917\n",
      "Epoch 59/100\n",
      "120/120 [==============================] - 0s 138us/sample - loss: 0.4522 - accuracy: 0.9000\n",
      "Epoch 60/100\n",
      "120/120 [==============================] - 0s 106us/sample - loss: 0.4475 - accuracy: 0.9083\n",
      "Epoch 61/100\n",
      "120/120 [==============================] - 0s 136us/sample - loss: 0.4430 - accuracy: 0.9083\n",
      "Epoch 62/100\n",
      "120/120 [==============================] - 0s 71us/sample - loss: 0.4386 - accuracy: 0.9167\n",
      "Epoch 63/100\n",
      "120/120 [==============================] - 0s 126us/sample - loss: 0.4343 - accuracy: 0.9167\n",
      "Epoch 64/100\n",
      "120/120 [==============================] - 0s 108us/sample - loss: 0.4303 - accuracy: 0.9167\n",
      "Epoch 65/100\n",
      "120/120 [==============================] - 0s 94us/sample - loss: 0.4253 - accuracy: 0.9167\n",
      "Epoch 66/100\n",
      "120/120 [==============================] - 0s 88us/sample - loss: 0.4210 - accuracy: 0.9333\n",
      "Epoch 67/100\n",
      "120/120 [==============================] - 0s 109us/sample - loss: 0.4164 - accuracy: 0.9333\n",
      "Epoch 68/100\n",
      "120/120 [==============================] - 0s 114us/sample - loss: 0.4122 - accuracy: 0.9333\n",
      "Epoch 69/100\n",
      "120/120 [==============================] - 0s 120us/sample - loss: 0.4083 - accuracy: 0.9333\n",
      "Epoch 70/100\n",
      "120/120 [==============================] - 0s 88us/sample - loss: 0.4039 - accuracy: 0.9333\n",
      "Epoch 71/100\n",
      "120/120 [==============================] - 0s 105us/sample - loss: 0.3998 - accuracy: 0.9333\n",
      "Epoch 72/100\n",
      "120/120 [==============================] - 0s 97us/sample - loss: 0.3959 - accuracy: 0.9333\n",
      "Epoch 73/100\n",
      "120/120 [==============================] - 0s 122us/sample - loss: 0.3922 - accuracy: 0.9417\n",
      "Epoch 74/100\n",
      "120/120 [==============================] - 0s 83us/sample - loss: 0.3876 - accuracy: 0.9417\n",
      "Epoch 75/100\n",
      "120/120 [==============================] - 0s 93us/sample - loss: 0.3841 - accuracy: 0.9417\n",
      "Epoch 76/100\n",
      "120/120 [==============================] - 0s 97us/sample - loss: 0.3801 - accuracy: 0.9417\n",
      "Epoch 77/100\n",
      "120/120 [==============================] - 0s 136us/sample - loss: 0.3764 - accuracy: 0.9417\n",
      "Epoch 78/100\n"
     ]
    },
    {
     "name": "stdout",
     "output_type": "stream",
     "text": [
      "120/120 [==============================] - 0s 115us/sample - loss: 0.3728 - accuracy: 0.9417\n",
      "Epoch 79/100\n",
      "120/120 [==============================] - 0s 113us/sample - loss: 0.3690 - accuracy: 0.9417\n",
      "Epoch 80/100\n",
      "120/120 [==============================] - 0s 94us/sample - loss: 0.3654 - accuracy: 0.9417\n",
      "Epoch 81/100\n",
      "120/120 [==============================] - 0s 104us/sample - loss: 0.3617 - accuracy: 0.9417\n",
      "Epoch 82/100\n",
      "120/120 [==============================] - 0s 123us/sample - loss: 0.3582 - accuracy: 0.9500\n",
      "Epoch 83/100\n",
      "120/120 [==============================] - 0s 75us/sample - loss: 0.3547 - accuracy: 0.9417\n",
      "Epoch 84/100\n",
      "120/120 [==============================] - 0s 83us/sample - loss: 0.3510 - accuracy: 0.9417\n",
      "Epoch 85/100\n",
      "120/120 [==============================] - 0s 124us/sample - loss: 0.3477 - accuracy: 0.9500\n",
      "Epoch 86/100\n",
      "120/120 [==============================] - 0s 156us/sample - loss: 0.3442 - accuracy: 0.9417\n",
      "Epoch 87/100\n",
      "120/120 [==============================] - 0s 89us/sample - loss: 0.3412 - accuracy: 0.9417\n",
      "Epoch 88/100\n",
      "120/120 [==============================] - 0s 112us/sample - loss: 0.3375 - accuracy: 0.9417\n",
      "Epoch 89/100\n",
      "120/120 [==============================] - 0s 122us/sample - loss: 0.3342 - accuracy: 0.9417\n",
      "Epoch 90/100\n",
      "120/120 [==============================] - 0s 87us/sample - loss: 0.3309 - accuracy: 0.9417\n",
      "Epoch 91/100\n",
      "120/120 [==============================] - 0s 168us/sample - loss: 0.3277 - accuracy: 0.9417\n",
      "Epoch 92/100\n",
      "120/120 [==============================] - 0s 107us/sample - loss: 0.3244 - accuracy: 0.9417\n",
      "Epoch 93/100\n",
      "120/120 [==============================] - 0s 112us/sample - loss: 0.3213 - accuracy: 0.9417\n",
      "Epoch 94/100\n",
      "120/120 [==============================] - 0s 116us/sample - loss: 0.3181 - accuracy: 0.9417\n",
      "Epoch 95/100\n",
      "120/120 [==============================] - 0s 79us/sample - loss: 0.3150 - accuracy: 0.9417\n",
      "Epoch 96/100\n",
      "120/120 [==============================] - 0s 87us/sample - loss: 0.3119 - accuracy: 0.9417\n",
      "Epoch 97/100\n",
      "120/120 [==============================] - 0s 89us/sample - loss: 0.3087 - accuracy: 0.9417\n",
      "Epoch 98/100\n",
      "120/120 [==============================] - 0s 86us/sample - loss: 0.3063 - accuracy: 0.9417\n",
      "Epoch 99/100\n",
      "120/120 [==============================] - 0s 86us/sample - loss: 0.3026 - accuracy: 0.9417\n",
      "Epoch 100/100\n",
      "120/120 [==============================] - 0s 94us/sample - loss: 0.3003 - accuracy: 0.9417\n"
     ]
    },
    {
     "data": {
      "text/plain": [
       "<tensorflow.python.keras.callbacks.History at 0x7f8cd15e9588>"
      ]
     },
     "execution_count": 17,
     "metadata": {},
     "output_type": "execute_result"
    }
   ],
   "source": [
    "model.fit(x_train, y_train, epochs=100)"
   ]
  },
  {
   "cell_type": "markdown",
   "metadata": {},
   "source": [
    "# Evaluate with Test set"
   ]
  },
  {
   "cell_type": "code",
   "execution_count": 18,
   "metadata": {},
   "outputs": [
    {
     "name": "stdout",
     "output_type": "stream",
     "text": [
      "30/30 [==============================] - 0s 732us/sample - loss: 0.2585 - accuracy: 1.0000\n",
      "1.0\n"
     ]
    }
   ],
   "source": [
    "test_loss, test_acc = model.evaluate(x_test, y_test)\n",
    "\n",
    "print(test_acc)"
   ]
  }
 ],
 "metadata": {
  "kernelspec": {
   "display_name": "Python 3",
   "language": "python",
   "name": "python3"
  },
  "language_info": {
   "codemirror_mode": {
    "name": "ipython",
    "version": 3
   },
   "file_extension": ".py",
   "mimetype": "text/x-python",
   "name": "python",
   "nbconvert_exporter": "python",
   "pygments_lexer": "ipython3",
   "version": "3.7.3"
  }
 },
 "nbformat": 4,
 "nbformat_minor": 2
}
