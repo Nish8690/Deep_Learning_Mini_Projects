{
 "cells": [
  {
   "cell_type": "code",
   "execution_count": 1,
   "metadata": {},
   "outputs": [],
   "source": [
    "import tensorflow as tf\n",
    "import pandas as pd\n",
    "import numpy as np"
   ]
  },
  {
   "cell_type": "code",
   "execution_count": 2,
   "metadata": {},
   "outputs": [
    {
     "name": "stdout",
     "output_type": "stream",
     "text": [
      "   Time        V1        V2        V3        V4        V5        V6        V7  \\\n",
      "0   0.0 -1.359807 -0.072781  2.536347  1.378155 -0.338321  0.462388  0.239599   \n",
      "1   0.0  1.191857  0.266151  0.166480  0.448154  0.060018 -0.082361 -0.078803   \n",
      "2   1.0 -1.358354 -1.340163  1.773209  0.379780 -0.503198  1.800499  0.791461   \n",
      "3   1.0 -0.966272 -0.185226  1.792993 -0.863291 -0.010309  1.247203  0.237609   \n",
      "4   2.0 -1.158233  0.877737  1.548718  0.403034 -0.407193  0.095921  0.592941   \n",
      "\n",
      "         V8        V9  ...       V21       V22       V23       V24       V25  \\\n",
      "0  0.098698  0.363787  ... -0.018307  0.277838 -0.110474  0.066928  0.128539   \n",
      "1  0.085102 -0.255425  ... -0.225775 -0.638672  0.101288 -0.339846  0.167170   \n",
      "2  0.247676 -1.514654  ...  0.247998  0.771679  0.909412 -0.689281 -0.327642   \n",
      "3  0.377436 -1.387024  ... -0.108300  0.005274 -0.190321 -1.175575  0.647376   \n",
      "4 -0.270533  0.817739  ... -0.009431  0.798278 -0.137458  0.141267 -0.206010   \n",
      "\n",
      "        V26       V27       V28  Amount  Class  \n",
      "0 -0.189115  0.133558 -0.021053  149.62      0  \n",
      "1  0.125895 -0.008983  0.014724    2.69      0  \n",
      "2 -0.139097 -0.055353 -0.059752  378.66      0  \n",
      "3 -0.221929  0.062723  0.061458  123.50      0  \n",
      "4  0.502292  0.219422  0.215153   69.99      0  \n",
      "\n",
      "[5 rows x 31 columns]\n"
     ]
    }
   ],
   "source": [
    "df = pd.read_csv('creditcard.csv')\n",
    "\n",
    "print(df.head())"
   ]
  },
  {
   "cell_type": "code",
   "execution_count": 3,
   "metadata": {},
   "outputs": [],
   "source": [
    "genuine = df[df['Class'] == 0]\n",
    "fraud = df[df['Class'] == 1]"
   ]
  },
  {
   "cell_type": "code",
   "execution_count": 4,
   "metadata": {},
   "outputs": [],
   "source": [
    "def normalize_columns(df):\n",
    "    for column in df:\n",
    "        min_val = df[column].min()\n",
    "        max_val = df[column].max()\n",
    "        df[column] = (df[column] - min_val)/(max_val - min_val)\n",
    "    return df"
   ]
  },
  {
   "cell_type": "code",
   "execution_count": 5,
   "metadata": {},
   "outputs": [],
   "source": [
    "genuine_features = genuine.iloc[:, :-1]\n",
    "genuine_features = normalize_columns(genuine_features)"
   ]
  },
  {
   "cell_type": "code",
   "execution_count": 6,
   "metadata": {},
   "outputs": [],
   "source": [
    "fraud_features = fraud.iloc[:, :-1]\n",
    "fraud_features = normalize_columns(fraud_features)"
   ]
  },
  {
   "cell_type": "code",
   "execution_count": 7,
   "metadata": {},
   "outputs": [],
   "source": [
    "genuine_features_train = genuine_features.iloc[:-500, :].to_numpy()"
   ]
  },
  {
   "cell_type": "code",
   "execution_count": 8,
   "metadata": {},
   "outputs": [],
   "source": [
    "genuine_features_test = genuine_features.iloc[-500:, :].to_numpy()\n",
    "fraud_features_test = fraud_features.to_numpy()"
   ]
  },
  {
   "cell_type": "code",
   "execution_count": 9,
   "metadata": {},
   "outputs": [
    {
     "name": "stdout",
     "output_type": "stream",
     "text": [
      "(283815, 30)\n",
      "(500, 30)\n",
      "(492, 30)\n"
     ]
    }
   ],
   "source": [
    "print(genuine_features_train.shape)\n",
    "print(genuine_features_test.shape)\n",
    "print(fraud_features_test.shape)"
   ]
  },
  {
   "cell_type": "code",
   "execution_count": 10,
   "metadata": {},
   "outputs": [
    {
     "name": "stdout",
     "output_type": "stream",
     "text": [
      "Model: \"sequential\"\n",
      "_________________________________________________________________\n",
      "Layer (type)                 Output Shape              Param #   \n",
      "=================================================================\n",
      "dense (Dense)                (None, 14)                434       \n",
      "_________________________________________________________________\n",
      "dense_1 (Dense)              (None, 7)                 105       \n",
      "_________________________________________________________________\n",
      "dense_2 (Dense)              (None, 14)                112       \n",
      "_________________________________________________________________\n",
      "dense_3 (Dense)              (None, 30)                450       \n",
      "=================================================================\n",
      "Total params: 1,101\n",
      "Trainable params: 1,101\n",
      "Non-trainable params: 0\n",
      "_________________________________________________________________\n"
     ]
    }
   ],
   "source": [
    "model = tf.keras.Sequential()\n",
    "\n",
    "model.add(tf.keras.layers.Input(shape=[30]))\n",
    "model.add(tf.keras.layers.Dense(14, activation='relu'))\n",
    "model.add(tf.keras.layers.Dense(7, activation='relu'))\n",
    "model.add(tf.keras.layers.Dense(14, activation='relu'))\n",
    "model.add(tf.keras.layers.Dense(30, activation='sigmoid'))\n",
    "\n",
    "model.summary()"
   ]
  },
  {
   "cell_type": "code",
   "execution_count": 11,
   "metadata": {},
   "outputs": [],
   "source": [
    "model.compile(optimizer='Adam', loss='mean_squared_error', metrics=['accuracy'])"
   ]
  },
  {
   "cell_type": "code",
   "execution_count": 12,
   "metadata": {},
   "outputs": [
    {
     "name": "stdout",
     "output_type": "stream",
     "text": [
      "Train on 283815 samples\n",
      "Epoch 1/10\n",
      "283815/283815 [==============================] - 19s 67us/sample - loss: 0.0036 - accuracy: 0.9372\n",
      "Epoch 2/10\n",
      "283815/283815 [==============================] - 19s 67us/sample - loss: 0.0018 - accuracy: 0.9555\n",
      "Epoch 3/10\n",
      "283815/283815 [==============================] - 19s 67us/sample - loss: 0.0018 - accuracy: 0.9555\n",
      "Epoch 4/10\n",
      "283815/283815 [==============================] - 19s 68us/sample - loss: 0.0018 - accuracy: 0.9555\n",
      "Epoch 5/10\n",
      "283815/283815 [==============================] - 19s 68us/sample - loss: 0.0018 - accuracy: 0.9555\n",
      "Epoch 6/10\n",
      "283815/283815 [==============================] - 19s 68us/sample - loss: 0.0014 - accuracy: 0.9555\n",
      "Epoch 7/10\n",
      "283815/283815 [==============================] - 19s 68us/sample - loss: 0.0014 - accuracy: 0.9555\n",
      "Epoch 8/10\n",
      "283815/283815 [==============================] - 19s 68us/sample - loss: 0.0014 - accuracy: 0.9555\n",
      "Epoch 9/10\n",
      "283815/283815 [==============================] - 19s 68us/sample - loss: 0.0014 - accuracy: 0.9555\n",
      "Epoch 10/10\n",
      "283815/283815 [==============================] - 19s 68us/sample - loss: 0.0014 - accuracy: 0.9555\n"
     ]
    },
    {
     "data": {
      "text/plain": [
       "<tensorflow.python.keras.callbacks.History at 0x7f329a0de518>"
      ]
     },
     "execution_count": 12,
     "metadata": {},
     "output_type": "execute_result"
    }
   ],
   "source": [
    "model.fit(genuine_features_train, genuine_features_train, epochs=10)"
   ]
  },
  {
   "cell_type": "code",
   "execution_count": 13,
   "metadata": {},
   "outputs": [],
   "source": [
    "reconstruction = model.predict(genuine_features_test)"
   ]
  },
  {
   "cell_type": "code",
   "execution_count": 14,
   "metadata": {},
   "outputs": [],
   "source": [
    "reconstruction_error = np.mean(np.power(genuine_features_test - reconstruction, 2), axis=1)"
   ]
  },
  {
   "cell_type": "code",
   "execution_count": 15,
   "metadata": {},
   "outputs": [
    {
     "name": "stdout",
     "output_type": "stream",
     "text": [
      "0.00047686437590789104\n",
      "0.009273863549461366\n"
     ]
    }
   ],
   "source": [
    "print(reconstruction_error.min())\n",
    "print(reconstruction_error.max())"
   ]
  },
  {
   "cell_type": "code",
   "execution_count": 16,
   "metadata": {},
   "outputs": [],
   "source": [
    "reconstruction = model.predict(fraud_features_test)"
   ]
  },
  {
   "cell_type": "code",
   "execution_count": 17,
   "metadata": {},
   "outputs": [],
   "source": [
    "reconstruction_error = np.mean(np.power(fraud_features_test - reconstruction, 2), axis=1)"
   ]
  },
  {
   "cell_type": "code",
   "execution_count": 18,
   "metadata": {},
   "outputs": [
    {
     "name": "stdout",
     "output_type": "stream",
     "text": [
      "0.04148048200763165\n",
      "0.18242503113790112\n"
     ]
    }
   ],
   "source": [
    "print(reconstruction_error.min())\n",
    "print(reconstruction_error.max())"
   ]
  }
 ],
 "metadata": {
  "kernelspec": {
   "display_name": "Python 3",
   "language": "python",
   "name": "python3"
  },
  "language_info": {
   "codemirror_mode": {
    "name": "ipython",
    "version": 3
   },
   "file_extension": ".py",
   "mimetype": "text/x-python",
   "name": "python",
   "nbconvert_exporter": "python",
   "pygments_lexer": "ipython3",
   "version": "3.7.3"
  }
 },
 "nbformat": 4,
 "nbformat_minor": 2
}
